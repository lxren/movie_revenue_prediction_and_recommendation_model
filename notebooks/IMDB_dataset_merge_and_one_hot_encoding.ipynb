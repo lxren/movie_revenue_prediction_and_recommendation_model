{
  "nbformat": 4,
  "nbformat_minor": 0,
  "metadata": {
    "colab": {
      "provenance": []
    },
    "kernelspec": {
      "name": "python3",
      "display_name": "Python 3"
    },
    "language_info": {
      "name": "python"
    }
  },
  "cells": [
    {
      "cell_type": "code",
      "execution_count": null,
      "metadata": {
        "colab": {
          "base_uri": "https://localhost:8080/"
        },
        "id": "WVE3PqS9lOJu",
        "outputId": "8c2a95d7-f4e5-4b2f-ac30-a4f3e8b6f6cb"
      },
      "outputs": [
        {
          "output_type": "execute_result",
          "data": {
            "text/plain": [
              "5156200"
            ]
          },
          "metadata": {},
          "execution_count": 69
        }
      ],
      "source": [
        "import os\n",
        "import pandas as pd\n",
        "\n",
        "def read_csv_files(folder_path):\n",
        "    csv_files = [f for f in os.listdir(folder_path) if f.endswith('.csv')]\n",
        "    dataframes = {}\n",
        "    for i, file in enumerate(csv_files):\n",
        "        df_name = 'df{}'.format(i + 1)\n",
        "        df = pd.read_csv(os.path.join(folder_path, file))\n",
        "        globals()[df_name] = df\n",
        "        dataframes[df_name] = df\n",
        "    return dataframes\n",
        "\n",
        "\n",
        "folder_path = './'\n",
        "dataframes = read_csv_files(folder_path)\n",
        "\n",
        "# for df_name, df in dataframes.items():\n",
        "#     print(f\"{df_name}:\")\n",
        "#     print(df.head())\n",
        "#     print(\"\\n\")"
      ]
    },
    {
      "cell_type": "code",
      "source": [
        "imdb_data = pd.concat(dataframes)\n",
        "print(imdb_data.shape)\n",
        "imdb_data.head()"
      ],
      "metadata": {
        "id": "EH3LzozyzX02"
      },
      "execution_count": null,
      "outputs": []
    },
    {
      "cell_type": "code",
      "source": [
        "imdb_data = imdb_data.drop_duplicates(subset=['movie_name', 'year'])\n",
        "imdb_data.shape\n",
        "\n",
        "from pathlib import Path\n",
        "filepath = Path('./results/imdb.csv')\n",
        "filepath.parent.mkdir(parents=True, exist_ok=True)\n",
        "imdb_data.to_csv(filepath, index=True)"
      ],
      "metadata": {
        "id": "hUZKKUv0x7fS"
      },
      "execution_count": null,
      "outputs": []
    },
    {
      "cell_type": "code",
      "source": [
        "import numpy as np\n",
        "\n",
        "genres = np.unique(', '.join(imdb_data['genre']).split(', '))\n",
        "genres = np.delete(genres, np.where(genres == 'NA'))\n",
        "\n",
        "#OneHotEncoding\n",
        "for genre in genres:\n",
        "    imdb_data[genre] = imdb_data['genre'].str.contains(genre).astype('int')\n"
      ],
      "metadata": {
        "id": "gYDr-1gEyUe6"
      },
      "execution_count": null,
      "outputs": []
    },
    {
      "cell_type": "code",
      "source": [
        "from pathlib import Path\n",
        "filepath = Path('./results/one-hot-encoded.csv')\n",
        "filepath.parent.mkdir(parents=True, exist_ok=True)\n",
        "imdb_data.to_csv(filepath, index=True)"
      ],
      "metadata": {
        "id": "-8dO8D3y52mZ"
      },
      "execution_count": null,
      "outputs": []
    },
    {
      "cell_type": "code",
      "source": [
        "missing_plot = ['Add a Plot']\n",
        "\n",
        "imdb_data['description'].isin(missing_plot).value_counts()"
      ],
      "metadata": {
        "colab": {
          "base_uri": "https://localhost:8080/"
        },
        "id": "2xqbmrDI-OU3",
        "outputId": "82208d6f-9f04-472c-bf00-054f901b0150"
      },
      "execution_count": null,
      "outputs": [
        {
          "output_type": "execute_result",
          "data": {
            "text/plain": [
              "False    189150\n",
              "True      54287\n",
              "Name: description, dtype: int64"
            ]
          },
          "metadata": {},
          "execution_count": 89
        }
      ]
    },
    {
      "cell_type": "code",
      "source": [
        "!pip install wordcloud\n",
        "from wordcloud import WordCloud, STOPWORDS\n",
        "stopwords = set(STOPWORDS)"
      ],
      "metadata": {
        "id": "OoqlvRAM9ZPk"
      },
      "execution_count": null,
      "outputs": []
    }
  ]
}